{
 "cells": [
  {
   "cell_type": "markdown",
   "metadata": {},
   "source": [
    "<h1>This script allows you to read pixel time series of NDVI values from NASA's GIMMs dataset and analyze it using PolyTrend algorithm</h1>\n",
    "<p>To use this tool, you need to set up an account with Google Earth Engine. Do it <a href'https://earthengine.google.com/signup'> here.</a></p>\n",
    "<p>For more information about PolyTrend see the original paper <a href='https://www.sciencedirect.com/science/article/pii/S0034425713003878'> here.</a></p>\n",
    "<p>This script can be adjusted to use any other dataset.</p>"
   ]
  },
  {
   "cell_type": "code",
   "execution_count": 4,
   "metadata": {},
   "outputs": [],
   "source": [
    "import ipywidgets\n",
    "#set up authentication credentials. alternatively run the command 'earthengine authenticate' in conda\n",
    "##run this and wait for browser's response:\n",
    "# ipywidgets.HTML(\n",
    "#     '<a href=\"{url}\" target=\"auth\">Open OAuth2 Page</a><br/>'.format(\n",
    "#         url=ee.oauth.get_authorization_url()\n",
    "#     )\n",
    "# )"
   ]
  },
  {
   "cell_type": "code",
   "execution_count": 3,
   "metadata": {},
   "outputs": [
    {
     "name": "stdout",
     "output_type": "stream",
     "text": [
      "name 'ee' is not defined\n"
     ]
    }
   ],
   "source": [
    "#copy the athentication code from the browser\n",
    "# code = '4/UwBKru7-cX3H1pRdAxm_96TZJJtwTSCfWMhMry1GPlmUaqp2E-eGgDk'\n",
    "# try:\n",
    "#     token = ee.oauth.request_token(code)\n",
    "#     ee.oauth.write_token(token)\n",
    "#     print('Successfully saved authorization token.')\n",
    "# except Exception as e:\n",
    "#     print(e)"
   ]
  },
  {
   "cell_type": "code",
   "execution_count": 1,
   "metadata": {},
   "outputs": [],
   "source": [
    "#import libraries for PolyTrend algorithm and downloading the time series data\n",
    "import pandas as pd\n",
    "import ee\n",
    "import numpy as np\n",
    "import numpy.linalg as lng\n",
    "import numpy.polynomial.polynomial as poly\n",
    "import scipy.stats as stats\n",
    "from ipyleaflet import Map, basemaps, DrawControl, GeoJSON, basemap_to_tiles \n",
    "    \n",
    "ee.Initialize()"
   ]
  },
  {
   "cell_type": "code",
   "execution_count": 3,
   "metadata": {},
   "outputs": [],
   "source": [
    "#select the image collection and filter dates\n",
    "name_of_collection = 'NASA/GIMMS/3GV0'\n",
    "start_date = '2011-12-01'\n",
    "end_date = '2012-12-02'\n",
    "#set desired statistical significance for the fit\n",
    "alpha = 0.05 \n",
    "#download image collection\n",
    "collection = ee.ImageCollection(name_of_collection).filterDate(start_date, end_date)\n"
   ]
  },
  {
   "cell_type": "code",
   "execution_count": 4,
   "metadata": {},
   "outputs": [
    {
     "data": {
      "application/vnd.jupyter.widget-view+json": {
       "model_id": "7d9cd5323c17482ab5fa16a802ada043",
       "version_major": 2,
       "version_minor": 0
      },
      "text/plain": [
       "Map(basemap={'attribution': 'Map data (c) <a href=\"https://openstreetmap.org\">OpenStreetMap</a> contributors',…"
      ]
     },
     "metadata": {},
     "output_type": "display_data"
    }
   ],
   "source": [
    "#create a map and create a point to get coordinates. The coordinated of the last marked point will be used for further computation\n",
    "m = Map(\n",
    "    center=(52.834502, 13.798697),\n",
    "    zoom=7\n",
    ")\n",
    "#enable drawing tools\n",
    "draw_control = DrawControl()\n",
    "draw_control.point = {\n",
    "    \"shapeOptions\": {\n",
    "        \"fillColor\": \"#6be5c3\",\n",
    "        \"color\": \"#6be5c3\",\n",
    "        \"fillOpacity\": 1.0\n",
    "    }\n",
    "}\n",
    "\n",
    "#mark a point to set area of interest\n",
    "m.add_control(draw_control)\n",
    "m\n"
   ]
  },
  {
   "cell_type": "code",
   "execution_count": 9,
   "metadata": {
    "scrolled": true
   },
   "outputs": [
    {
     "name": "stdout",
     "output_type": "stream",
     "text": [
      "[13.44956, 53.164558]\n",
      "[0.43700001 0.38100001 0.463      0.58499998 0.60000002 0.64099997\n",
      " 0.66399997 0.72899997 0.76200002 0.84600002 0.76700002 0.773\n",
      " 0.85699999 0.90899998 0.80599999 0.72000003 0.736      0.78299999\n",
      " 0.72799999 0.764      0.86699998 0.83099997 0.63999999 0.49599999\n",
      " 0.477      0.47       0.51999998 0.58200002 0.66799998 0.67500001\n",
      " 0.685      0.64300001 0.69       0.73400003 0.829      0.764\n",
      " 0.72799999 0.634      0.713      0.76999998 0.73400003 0.61199999\n",
      " 0.58200002 0.722      0.81099999 0.79400003 0.58600003 0.50099999\n",
      " 0.546      0.55000001 0.41499999 0.368      0.454      0.59500003\n",
      " 0.57300001 0.50599998 0.57300001 0.74299997 0.80699998 0.83399999\n",
      " 0.84500003 0.83200002 0.82999998 0.78500003 0.77700001 0.75599998\n",
      " 0.73900002 0.755      0.81099999 0.75300002 0.68599999 0.63700002\n",
      " 0.61000001]\n"
     ]
    }
   ],
   "source": [
    "coords = draw_control.last_draw['geometry']['coordinates']\n",
    "print(coords)\n",
    "\n",
    "def GetDataFrame(coords):\n",
    "    \n",
    "    pnt = ee.Geometry.Point(coords)\n",
    "    # Sample for a time series of values at the point. After 'select' enter which bands are needed\n",
    "    #scale is meters for each pixel. if the number is too low, there will be too many records\n",
    "    geom_values = collection.filterBounds(pnt).getRegion(geometry=pnt, scale=700)\n",
    "    geom_values_list = ee.List(geom_values).getInfo()\n",
    "    # Convert to a Pandas DataFrame.\n",
    "    header = geom_values_list[0]\n",
    "    data = pd.DataFrame(geom_values_list[1:], columns=header)\n",
    "    data['datetime'] = pd.to_datetime(data['time'], unit='ms', utc=True)\n",
    "    data.set_index('time')\n",
    "    data = data.sort_values('time')\n",
    "    data = data['ndvi']\n",
    "    #change pandas data frame into numpy array with.values\n",
    "    data = data.values\n",
    "    return data;\n",
    "\n",
    "#Get time series for the point of interest\n",
    "\n",
    "Y = GetDataFrame(coords)\n"
   ]
  },
  {
   "cell_type": "code",
   "execution_count": 10,
   "metadata": {},
   "outputs": [
    {
     "name": "stderr",
     "output_type": "stream",
     "text": [
      "C:\\Users\\Lenovo\\Anaconda2\\envs\\polytrend\\lib\\site-packages\\ipykernel_launcher.py:22: RuntimeWarning: invalid value encountered in sqrt\n",
      "C:\\Users\\Lenovo\\Anaconda2\\envs\\polytrend\\lib\\site-packages\\scipy\\stats\\_distn_infrastructure.py:879: RuntimeWarning: invalid value encountered in greater\n",
      "  return (self.a < x) & (x < self.b)\n",
      "C:\\Users\\Lenovo\\Anaconda2\\envs\\polytrend\\lib\\site-packages\\scipy\\stats\\_distn_infrastructure.py:879: RuntimeWarning: invalid value encountered in less\n",
      "  return (self.a < x) & (x < self.b)\n",
      "C:\\Users\\Lenovo\\Anaconda2\\envs\\polytrend\\lib\\site-packages\\scipy\\stats\\_distn_infrastructure.py:1821: RuntimeWarning: invalid value encountered in less_equal\n",
      "  cond2 = cond0 & (x <= self.a)\n"
     ]
    },
    {
     "data": {
      "text/plain": [
       "('trend type:', 0, 'significance:', -1, 'polynomial degree:', 0)"
      ]
     },
     "execution_count": 10,
     "metadata": {},
     "output_type": "execute_result"
    }
   ],
   "source": [
    "#PolyTrend algorithm that returns the type of trend, statistical significance of it and polynomial degree \n",
    "\n",
    "def PolyTrend(Y, alpha):\n",
    "    X = range(1, len(Y)+1)\n",
    "    \n",
    "    #define function to find p value:\n",
    "    def Pvalue(coef, df, A, Aprim, pn):\n",
    "        #generate square residual\n",
    "        part_res = np.dot(A, pn)-Y\n",
    "        residual = np.dot(part_res.transpose(), part_res)\n",
    "        #generate variance-covariance matrix\n",
    "        VC = lng.inv(np.dot(Aprim, A))*residual/df\n",
    "        #compute variance of the first coefficient\n",
    "        VC1 = np.sqrt(VC[0,0])\n",
    "        #compute t-statistic\n",
    "        statistic = coef/VC1\n",
    "        #compute p value\n",
    "        p = stats.t.sf(np.abs(statistic), df)*2\n",
    "        return p;\n",
    "\n",
    "    def Plinear(X, Y):\n",
    "        degree = 1\n",
    "        df1 = len(X)-degree-1\n",
    "        #generate Vandermonde matrix\n",
    "        A1 = np.vander(X, 2)\n",
    "        #generate transpose of the Vandermonde matrix\n",
    "        Aprim1 = A1.transpose()\n",
    "        p1 = np.dot(np.dot((lng.inv(np.dot(Aprim1, A1))), Aprim1), Y)\n",
    "        coef1 = p1[0]\n",
    "        Plin = Pvalue(coef1, df1, A1, Aprim1, p1)\n",
    "        Slope = p1[0]\n",
    "        Direction = np.sign(Slope)\n",
    "        return Plin;\n",
    "    \n",
    "    degree = 3\n",
    "    #degrees of freedom\n",
    "    df3 = len(X)-degree-1\n",
    "    #generate Vandermonde matrix\n",
    "    A3 = np.vander(X, 4)\n",
    "    #generate transpose of the Vandermonde matrix\n",
    "    Aprim3 = A3.transpose()\n",
    "    #X=inv(A'*A)*A'*L - creating coefficients matrix:\n",
    "    p3 = np.dot(np.dot((lng.inv(np.dot(Aprim3, A3))), Aprim3), Y)\n",
    "    coef3 = p3[0]\n",
    "    #compute p-value for cubic fit\n",
    "    Pcubic = Pvalue(coef3, df3, A3, Aprim3, p3)\n",
    "    #get roots of cubic polynomial\n",
    "    coefs3 = ([p3[2], 2*p3[1], 3*p3[0]])\n",
    "    roots3 = np.sort(poly.polyroots(coefs3))\n",
    "\n",
    "    if (np.imag(roots3[0]) == 0 and np.imag(roots3[1])==0 and roots3[0] != roots3[1] and X[0] <= roots3[0] and roots3[0] <= len(X) and X[0] <= roots3[1] and roots3[1] <= len(X) and Pcubic < alpha):\n",
    "        Plin = Plinear(X, Y)\n",
    "        if (Plin < alpha):\n",
    "            Trend_type = 3\n",
    "            Significance = 1\n",
    "            Poly_degree = 3\n",
    "        else:\n",
    "            Trend_type = -1\n",
    "            Significance = -1\n",
    "            Poly_degree = 3\n",
    "            return 'trend type:', trend_name, 'significance:', Significance, 'polynomial degree:', Poly_degree;\n",
    "    else:\n",
    "        degree = 2\n",
    "        df2 = len(X)-degree-1\n",
    "        A2 = np.vander(X, 3)\n",
    "        Aprim2 = A2.transpose()\n",
    "        p2 = np.dot(np.dot((lng.inv(np.dot(Aprim2, A2))), Aprim2), Y)\n",
    "        coef2 = p2[0]\n",
    "        Pquadratic = Pvalue(coef2, df2, A2, Aprim2, p2)\n",
    "        coefs2 = ([p2[1], 2*p2[0]])\n",
    "        roots2 = np.sort(poly.polyroots(coefs2))\n",
    "        \n",
    "        if (1<=roots2 and roots2 <= len(X) and Pquadratic < alpha):\n",
    "            Plin = Plinear(X, Y)\n",
    "            if Plin < alpha:\n",
    "                Trend_type = 2\n",
    "                Significance = 1\n",
    "                Poly_degree = 2\n",
    "            else:\n",
    "                Trend_type = -1\n",
    "                Significance = -1\n",
    "                Poly_degree = 2\n",
    "                return 'trend type:', Trend_type, 'significance:', Significance, 'polynomial degree:', Poly_degree;\n",
    "                \n",
    "        else:\n",
    "            Plin = Plinear(X, Y)\n",
    "            if Plin < alpha:\n",
    "                Trend_type = 1\n",
    "                Significance = 1\n",
    "                Poly_degree = 1\n",
    "            else:\n",
    "                Trend_type = 0\n",
    "                Significance = -1\n",
    "                Poly_degree = 0\n",
    "            return 'trend type:', Trend_type, 'significance:', Significance, 'polynomial degree:', Poly_degree;\n",
    "        return 'trend type:', Trend_type, 'significance:', Significance, 'polynomial degree:', Poly_degree;\n",
    "    return;\n",
    "\n",
    "PolyTrend(Y, alpha)     \n"
   ]
  }
 ],
 "metadata": {
  "kernelspec": {
   "display_name": "Python 3",
   "language": "python",
   "name": "python3"
  },
  "language_info": {
   "codemirror_mode": {
    "name": "ipython",
    "version": 3
   },
   "file_extension": ".py",
   "mimetype": "text/x-python",
   "name": "python",
   "nbconvert_exporter": "python",
   "pygments_lexer": "ipython3",
   "version": "3.5.6"
  }
 },
 "nbformat": 4,
 "nbformat_minor": 2
}
