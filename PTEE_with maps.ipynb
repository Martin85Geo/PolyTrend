{
 "cells": [
  {
   "cell_type": "code",
   "execution_count": 3,
   "metadata": {},
   "outputs": [],
   "source": [
    "#import libraries for PolyTrend algorithm and downloading the time series data\n",
    "import pandas as pd\n",
    "import ee\n",
    "import numpy as np\n",
    "import numpy.linalg as lng\n",
    "import numpy.polynomial.polynomial as poly\n",
    "import scipy.stats as stats\n",
    "from ipyleaflet import Map, basemaps, DrawControl, basemap_to_tiles, CircleMarker\n",
    "    \n",
    "ee.Initialize()"
   ]
  },
  {
   "cell_type": "markdown",
   "metadata": {},
   "source": [
    "<h3>To use your own data, upload a csv file to Jupyter notebook, enter the name of the file in the next cell and run the code. Time series needs to have at least 4 time steps to perform cubic fitting. First row should contain names of columns, including 'latitude' and 'longitude'. </h3>"
   ]
  },
  {
   "cell_type": "code",
   "execution_count": null,
   "metadata": {},
   "outputs": [],
   "source": [
    "file_name = 'enter the name of you file here, as string, ending with .csv'\n",
    "dataset= pd.read_csv(file_name)\n",
    "dataset.groupby(['longitude', 'latitude'])\n",
    "#check the records are really organised by lon/lat and if data looks fine\n",
    "print(dataset.head())\n"
   ]
  },
  {
   "cell_type": "markdown",
   "metadata": {},
   "source": [
    "<h3>Enter parameters:</h3>\n",
    "<br>\n",
    "<ul>\n",
    "    <li>statistical significance (alpha), the default value is 0.05</li> \n",
    "    <li>coordinates of the region of interest. If you don't know them use the map, mark a polygon. The coordinate of the last polygon drawn will be used</li>\n",
    "    <li>decide on the dataset you'd like to use. Check their IDs <a href=\"https://developers.google.com/earth-engine/datasets/catalog/\">here</a>. Enter as variable name_of_collection</li>\n",
    "    <li>you will filter the collection according to available dates and your interest. Enter start and end dates as strings</li>\n",
    "    <li>enter name of the band you want to analyse. This is case sensitive so please check what band names the dataset has on Earth Engine website</li>\n",
    "    <li>enter range in which your values should be, eg. for NDVI it would be 0 to 1</li>\n",
    "</ul>"
   ]
  },
  {
   "cell_type": "markdown",
   "metadata": {},
   "source": [
    "<h3>Variables entered by the user. Change the right side of the equation keeping the same format and type of data as in the example</h3> "
   ]
  },
  {
   "cell_type": "code",
   "execution_count": 16,
   "metadata": {},
   "outputs": [],
   "source": [
    "alpha = 0.05\n",
    "name_of_collection = 'MODIS/006/MOD13A2'\n",
    "start_date = '2000-12-01'\n",
    "end_date = '2008-12-02'\n",
    "band_name = 'NDVI'\n",
    "# coords = [[11.944024, 52.30512], [11.922045, 52.197507], [11.966003, 52.224435], [11.944024, 52.30512]]\n",
    "range_of_ndvi = range(0,1) #???a float? will be used for validation \n"
   ]
  },
  {
   "cell_type": "markdown",
   "metadata": {},
   "source": [
    "<h3>If you do not have coordinates of the area of interest create a map with the script below and mark a polygon</h3>"
   ]
  },
  {
   "cell_type": "code",
   "execution_count": 6,
   "metadata": {},
   "outputs": [
    {
     "data": {
      "application/vnd.jupyter.widget-view+json": {
       "model_id": "ae907d770c2840ac9c65df7c4868bf39",
       "version_major": 2,
       "version_minor": 0
      },
      "text/plain": [
       "Map(basemap={'attribution': 'Map data (c) <a href=\"https://openstreetmap.org\">OpenStreetMap</a> contributors',…"
      ]
     },
     "metadata": {},
     "output_type": "display_data"
    }
   ],
   "source": [
    "m = Map(\n",
    "    center=(52.834502, 13.798697),\n",
    "    zoom=7\n",
    ")\n",
    "#enable drawing tools\n",
    "draw_control = DrawControl()\n",
    "draw_control.polygon = {\n",
    "    \"shapeOptions\": {\n",
    "        \"fillColor\": \"#6be5c3\",\n",
    "        \"color\": \"#6be5c3\",\n",
    "        \"fillOpacity\": 1.0\n",
    "    },\n",
    "    \"drawError\": {\n",
    "        \"color\": \"#dd253b\",\n",
    "        \"message\": \"Oups!\"\n",
    "    },\n",
    "    \"allowIntersection\": False\n",
    "}\n",
    "\n",
    "m.add_control(draw_control)\n",
    "m\n"
   ]
  },
  {
   "cell_type": "markdown",
   "metadata": {},
   "source": [
    "<h3>Upload image collection and generate time series. To use coordinates of the polygon drawn on the above map. The last polygone drawn will be used</h3><br>\n",
    "<i>Please note if you are using a point, you have to change the geometry inside the script so that \n",
    "    AOI = ee.Geometry.Point(coords)</i>"
   ]
  },
  {
   "cell_type": "code",
   "execution_count": 17,
   "metadata": {},
   "outputs": [
    {
     "name": "stdout",
     "output_type": "stream",
     "text": [
      "coordinates:  [[[11.059472, 52.725248], [11.059472, 52.618658], [11.290149, 52.638663], [11.059472, 52.725248]]]\n",
      "Dataset ready\n"
     ]
    }
   ],
   "source": [
    "print('coordinates: ', draw_control.last_draw['geometry']['coordinates'])\n",
    "coords = draw_control.last_draw['geometry']['coordinates']\n",
    "\n",
    "collection = ee.ImageCollection(name_of_collection).filterDate(start_date, end_date).select(band_name)\n",
    "crs = collection.first().getInfo()['bands'][0]['crs']\n",
    "def GetDataFrame(coords):\n",
    "    \n",
    "    AOI = ee.Geometry.Polygon(coords)\n",
    "    geom_values = collection.filterBounds(AOI).getRegion(geometry=AOI, scale=500, crs=crs)\n",
    "    geom_values_list = ee.List(geom_values).getInfo()\n",
    "    # Convert to a Pandas DataFrame.\n",
    "    header = geom_values_list[0]\n",
    "    data = pd.DataFrame(geom_values_list[1:], columns=header)\n",
    "    data['datetime'] = pd.to_datetime(data['time'], unit='ms', utc=True)\n",
    "    data.set_index('time')\n",
    "    data.groupby(['longitude', 'latitude'])\n",
    "    #see how many images there are:\n",
    "    return data;\n",
    "\n",
    "try:\n",
    "    dataset = GetDataFrame(coords)\n",
    "    print('Dataset ready')\n",
    "except:\n",
    "    print('Something went wrong')"
   ]
  },
  {
   "cell_type": "markdown",
   "metadata": {},
   "source": [
    "<h3>To save the time series for the polygon run the next line of code. It saves to the active Anaconda environment:</h3>"
   ]
  },
  {
   "cell_type": "code",
   "execution_count": null,
   "metadata": {
    "collapsed": true
   },
   "outputs": [],
   "source": [
    "dataset.to_csv('time_series.csv')"
   ]
  },
  {
   "cell_type": "markdown",
   "metadata": {},
   "source": [
    "<h3>Below is the PolyTrend algorithm. Run it here so that it can be used in the next cell with the data</h3>"
   ]
  },
  {
   "cell_type": "code",
   "execution_count": 9,
   "metadata": {},
   "outputs": [],
   "source": [
    "def PolyTrend(Y, alpha):    \n",
    "    X = range(1, len(Y)+1)\n",
    "    \n",
    "    #define function to find p value:\n",
    "    def Pvalue(coef, df, A, Aprim, pn):\n",
    "        #generate square residual\n",
    "        part_res = np.dot(A, pn)-Y\n",
    "        residual = np.dot(part_res.transpose(), part_res)\n",
    "        #generate variance-covariance matrix\n",
    "        VC = lng.inv(np.dot(Aprim, A))*residual/df\n",
    "        #compute variance of the first coefficient\n",
    "        VC1 = np.sqrt(VC[0,0])\n",
    "        #compute t-statistic\n",
    "        statistic = coef/VC1\n",
    "        #compute p value\n",
    "        p = stats.t.sf(np.abs(statistic), df)*2\n",
    "        return p;\n",
    "\n",
    "    def Plinear(X, Y):\n",
    "        degree = 1\n",
    "        df1 = len(X)-degree-1\n",
    "        #generate Vandermonde matrix\n",
    "        A1 = np.vander(X, 2)\n",
    "        #generate transpose of the Vandermonde matrix\n",
    "        Aprim1 = A1.transpose()\n",
    "        p1 = np.dot(np.dot((lng.inv(np.dot(Aprim1, A1))), Aprim1), Y)\n",
    "        coef1 = p1[0]\n",
    "        Plin = Pvalue(coef1, df1, A1, Aprim1, p1)\n",
    "        Slope = p1[0]\n",
    "        Direction = np.sign(Slope)\n",
    "        return Plin;\n",
    "    \n",
    "    degree = 3\n",
    "    #degrees of freedom\n",
    "    df3 = len(X)-degree-1\n",
    "    #generate Vandermonde matrix\n",
    "    A3 = np.vander(X, 4)\n",
    "    #generate transpose of the Vandermonde matrix\n",
    "    Aprim3 = A3.transpose()\n",
    "    #X=inv(A'*A)*A'*L - creating coefficients matrix:\n",
    "    p3 = np.dot(np.dot((lng.inv(np.dot(Aprim3, A3))), Aprim3), Y)\n",
    "    coef3 = p3[0]\n",
    "    #compute p-value for cubic fit\n",
    "    Pcubic = Pvalue(coef3, df3, A3, Aprim3, p3)\n",
    "    #get roots of cubic polynomial\n",
    "    coefs3 = ([p3[2], 2*p3[1], 3*p3[0]])\n",
    "    roots3 = np.sort(poly.polyroots(coefs3))\n",
    "\n",
    "    if (np.imag(roots3[0]) == 0 and np.imag(roots3[1])==0 and roots3[0] != roots3[1] and X[0] <= roots3[0] and roots3[0] <= len(X) and X[0] <= roots3[1] and roots3[1] <= len(X) and Pcubic < alpha):\n",
    "        Plin = Plinear(X, Y)\n",
    "        if (Plin < alpha):\n",
    "            Trend_type = 3\n",
    "            Significance = 1\n",
    "            Poly_degree = 3\n",
    "        else:\n",
    "            Trend_type = -1\n",
    "            Significance = -1\n",
    "            Poly_degree = 3\n",
    "            return [Trend_type, Significance, Poly_degree];\n",
    "    else:\n",
    "        degree = 2\n",
    "        df2 = len(X)-degree-1\n",
    "        A2 = np.vander(X, 3)\n",
    "        Aprim2 = A2.transpose()\n",
    "        p2 = np.dot(np.dot((lng.inv(np.dot(Aprim2, A2))), Aprim2), Y)\n",
    "        coef2 = p2[0]\n",
    "        Pquadratic = Pvalue(coef2, df2, A2, Aprim2, p2)\n",
    "        coefs2 = ([p2[1], 2*p2[0]])\n",
    "        roots2 = np.sort(poly.polyroots(coefs2))\n",
    "        \n",
    "        if (1<=roots2 and roots2 <= len(X) and Pquadratic < alpha):\n",
    "            Plin = Plinear(X, Y)\n",
    "            if Plin < alpha:\n",
    "                Trend_type = 2\n",
    "                Significance = 1\n",
    "                Poly_degree = 2\n",
    "            else:\n",
    "                Trend_type = -1\n",
    "                Significance = -1\n",
    "                Poly_degree = 2\n",
    "                return [Trend_type, Significance, Poly_degree];\n",
    "                \n",
    "        else:\n",
    "            Plin = Plinear(X, Y)\n",
    "            if Plin < alpha:\n",
    "                Trend_type = 1\n",
    "                Significance = 1\n",
    "                Poly_degree = 1\n",
    "            else:\n",
    "                Trend_type = 0\n",
    "                Significance = -1\n",
    "                Poly_degree = 0\n",
    "            return [Trend_type, Significance, Poly_degree];\n",
    "        return [Trend_type, Significance, Poly_degree];\n",
    "    return;"
   ]
  },
  {
   "cell_type": "code",
   "execution_count": 18,
   "metadata": {},
   "outputs": [
    {
     "name": "stdout",
     "output_type": "stream",
     "text": [
      "number of images:  184\n",
      "number of pixels analysed:  67528\n"
     ]
    },
    {
     "name": "stderr",
     "output_type": "stream",
     "text": [
      "C:\\Users\\Admin\\Anaconda3\\envs\\polytrend\\lib\\site-packages\\ipykernel_launcher.py:12: RuntimeWarning: invalid value encountered in sqrt\n",
      "  if sys.path[0] == '':\n",
      "C:\\Users\\Admin\\Anaconda3\\envs\\polytrend\\lib\\site-packages\\scipy\\stats\\_distn_infrastructure.py:879: RuntimeWarning: invalid value encountered in greater\n",
      "  return (self.a < x) & (x < self.b)\n",
      "C:\\Users\\Admin\\Anaconda3\\envs\\polytrend\\lib\\site-packages\\scipy\\stats\\_distn_infrastructure.py:879: RuntimeWarning: invalid value encountered in less\n",
      "  return (self.a < x) & (x < self.b)\n",
      "C:\\Users\\Admin\\Anaconda3\\envs\\polytrend\\lib\\site-packages\\scipy\\stats\\_distn_infrastructure.py:1821: RuntimeWarning: invalid value encountered in less_equal\n",
      "  cond2 = cond0 & (x <= self.a)\n"
     ]
    },
    {
     "name": "stdout",
     "output_type": "stream",
     "text": [
      "pixels to display:  367\n",
      "Running this process was ended successfully. You can download results and display them on maps\n"
     ]
    }
   ],
   "source": [
    "#establish how many images there are in the collection - it's our n\n",
    "list_of_images = dataset['id']\n",
    "ids_of_images = []\n",
    "for img_id in list_of_images:\n",
    "    if img_id not in ids_of_images:\n",
    "        ids_of_images.append(img_id)\n",
    "        \n",
    "n = len(ids_of_images)\n",
    "print('number of images: ', n)\n",
    "number_of_pixels = len(dataset) \n",
    "print('number of pixels analysed: ', number_of_pixels)\n",
    "\n",
    "#make_Y function returns coordinates for each pixel with the results of the analysis for each individual pixel\n",
    "def make_Y(dataset, alpha):\n",
    "    PT_result = []\n",
    "    #split the dataset into pixel time series\n",
    "    for i in range(0, number_of_pixels, n):\n",
    "        Y = dataset[i:i+n][band_name].values \n",
    "        #check for NANs and infitite values in each vector\n",
    "        if True in np.isnan(Y) or True in np.isinf(Y):\n",
    "            result = ['NA', 'NA', 'NA']\n",
    "        else:\n",
    "            result = list(PolyTrend(Y, alpha))\n",
    "        #populate the empty PT_result list with values    \n",
    "        pixel_long = dataset.at[i, 'longitude']\n",
    "        pixel_lat = dataset.at[i, 'latitude']\n",
    "        PT_result_header = ['longitude', 'latitude', 'trend type', 'significance', 'degree']\n",
    "        PT_result.append([pixel_long, pixel_lat, result[0], result[1], result[2]])\n",
    "    #create a frame for displaying results on a map    \n",
    "    image_frame = pd.DataFrame(PT_result[0:], columns=PT_result_header)\n",
    "    return image_frame;\n",
    "\n",
    "final_result = make_Y(dataset, alpha)\n",
    "print('pixels to display: ', len(final_result))\n",
    "print('Running this process was ended successfully. You can download results and display them on maps')\n",
    "# final_result.to_csv('Fri_Result1.csv')\n",
    "\n",
    "AOI_zoom = (final_result.at[0, 'latitude'], final_result.at[0, 'longitude'])"
   ]
  },
  {
   "cell_type": "markdown",
   "metadata": {},
   "source": [
    "<h3>Save results to a csv file in this Anaconda environment.</h3>"
   ]
  },
  {
   "cell_type": "code",
   "execution_count": 13,
   "metadata": {},
   "outputs": [],
   "source": [
    "final_result.to_csv('PolyTrend_result.csv')"
   ]
  },
  {
   "cell_type": "markdown",
   "metadata": {},
   "source": [
    "<h3>Run functions related to map generation</h3>"
   ]
  },
  {
   "cell_type": "code",
   "execution_count": 11,
   "metadata": {},
   "outputs": [],
   "source": [
    "def assign_color(value):\n",
    "    if value==-1:\n",
    "        return 'yellow'\n",
    "    elif value ==0:\n",
    "        return 'red'\n",
    "    elif value ==1:\n",
    "        return 'orange'\n",
    "    elif value == 2:\n",
    "        return 'green'\n",
    "    elif value == 3:\n",
    "        return 'white'"
   ]
  },
  {
   "cell_type": "markdown",
   "metadata": {},
   "source": [
    "<h2>Trend type graphic</h2>"
   ]
  },
  {
   "cell_type": "code",
   "execution_count": 19,
   "metadata": {},
   "outputs": [
    {
     "data": {
      "application/vnd.jupyter.widget-view+json": {
       "model_id": "f332a2a677c349a7829d308a80cbb1c2",
       "version_major": 2,
       "version_minor": 0
      },
      "text/plain": [
       "Map(basemap={'attribution': 'Map data (c) <a href=\"https://openstreetmap.org\">OpenStreetMap</a> contributors',…"
      ]
     },
     "metadata": {},
     "output_type": "display_data"
    }
   ],
   "source": [
    "m_trend = Map(\n",
    "    center=AOI_zoom,\n",
    "    zoom=13\n",
    ")\n",
    "\n",
    "# for i in range(0, 5):\n",
    "for i in range(0, len(final_result)):  \n",
    "    def assign_color(value):\n",
    "        if value==-1:\n",
    "            return 'yellow'\n",
    "        elif value ==0:\n",
    "            return 'red'\n",
    "        elif value ==1:\n",
    "            return 'orange'\n",
    "        elif value == 2:\n",
    "            return 'green'\n",
    "        elif value == 3:\n",
    "            return 'white'\n",
    "    pixel = CircleMarker()\n",
    "    pixel.location = (final_result.at[i, 'latitude'], final_result.at[i, 'longitude'])\n",
    "    pixel.fill_color = assign_color(final_result.at[i, 'trend type'])\n",
    "    pixel.stroke = False\n",
    "    pixel.radius = 5\n",
    "    pixel.fill_opacity = 1.0 \n",
    "\n",
    "    m_trend.add_layer(pixel)\n",
    "    \n",
    "m_trend\n"
   ]
  },
  {
   "cell_type": "markdown",
   "metadata": {},
   "source": [
    "<h3>Legend:</h3>\n",
    "<ul>\n",
    "<li>yellow - concealed trend\n",
    "<li>red - no trend\n",
    "<li>orange - linear trend\n",
    "<li>green - quadratic trend\n",
    "<li>white - cubic trend\n",
    "    </ul>"
   ]
  },
  {
   "cell_type": "markdown",
   "metadata": {},
   "source": [
    "<h2>Statistical significance graphic</h2>"
   ]
  },
  {
   "cell_type": "code",
   "execution_count": 14,
   "metadata": {},
   "outputs": [
    {
     "data": {
      "application/vnd.jupyter.widget-view+json": {
       "model_id": "7697a561e6cd4a088154116f3904a9da",
       "version_major": 2,
       "version_minor": 0
      },
      "text/plain": [
       "Map(basemap={'attribution': 'Map data (c) <a href=\"https://openstreetmap.org\">OpenStreetMap</a> contributors',…"
      ]
     },
     "metadata": {},
     "output_type": "display_data"
    }
   ],
   "source": [
    "\n",
    "m_significance = Map(\n",
    "    center=AOI_zoom,\n",
    "    zoom=12\n",
    ")\n",
    "\n",
    "# for i in range(0, 5):\n",
    "for i in range(0, len(final_result)):\n",
    "  \n",
    "    pixel = CircleMarker()\n",
    "    pixel.location = (final_result.at[i, 'latitude'], final_result.at[i, 'longitude'])\n",
    "    pixel.color = assign_color(final_result.at[i, 'significance'])\n",
    "    pixel.fill_color = assign_color(final_result.at[i, 'significance'])\n",
    "    pixel.stroke = False\n",
    "    pixel.radius = 5\n",
    "    pixel.fill_opacity = 1.0 \n",
    "    m_significance.add_layer(pixel)\n",
    "\n",
    "m_significance"
   ]
  },
  {
   "cell_type": "markdown",
   "metadata": {},
   "source": [
    "<h3>Legend</h3>\n",
    "<ul>\n",
    "    <li>yellow - statistically insignificant\n",
    "        <li>orange - statistically significant\n",
    "            </ul>"
   ]
  },
  {
   "cell_type": "markdown",
   "metadata": {},
   "source": [
    "<h2>Polynomial degree graphic</h2>"
   ]
  },
  {
   "cell_type": "code",
   "execution_count": 15,
   "metadata": {},
   "outputs": [
    {
     "data": {
      "application/vnd.jupyter.widget-view+json": {
       "model_id": "1ed59668a2d74aab863122f8ba295bf5",
       "version_major": 2,
       "version_minor": 0
      },
      "text/plain": [
       "Map(basemap={'attribution': 'Map data (c) <a href=\"https://openstreetmap.org\">OpenStreetMap</a> contributors',…"
      ]
     },
     "metadata": {},
     "output_type": "display_data"
    }
   ],
   "source": [
    "\n",
    "m_degree = Map(\n",
    "    center=AOI_zoom,\n",
    "    zoom=10\n",
    ")\n",
    "\n",
    "# for i in range(0, 5):\n",
    "for i in range(0, len(final_result)):\n",
    "        \n",
    "    pixel = CircleMarker()\n",
    "    pixel.location = (final_result.at[i, 'latitude'], final_result.at[i, 'longitude'])\n",
    "    pixel.fill_color = assign_color(final_result.at[i, 'degree'])\n",
    "    pixel.stroke = False\n",
    "    pixel.radius = 5\n",
    "    pixel.fill_opacity = 1.0 \n",
    "    m_degree.add_layer(pixel)\n",
    "\n",
    "\n",
    "m_degree"
   ]
  },
  {
   "cell_type": "markdown",
   "metadata": {},
   "source": [
    "<h3>Legend</h3>\n",
    "<ul>\n",
    "    <li>red - no trend</li>\n",
    "    <li>orange - linear trend</li>\n",
    "    <li>green - quadratic trend</li>\n",
    "    <li>white - cubic trend</li>\n",
    "        "
   ]
  }
 ],
 "metadata": {
  "kernelspec": {
   "display_name": "Python 3",
   "language": "python",
   "name": "python3"
  },
  "language_info": {
   "codemirror_mode": {
    "name": "ipython",
    "version": 3
   },
   "file_extension": ".py",
   "mimetype": "text/x-python",
   "name": "python",
   "nbconvert_exporter": "python",
   "pygments_lexer": "ipython3",
   "version": "3.5.6"
  }
 },
 "nbformat": 4,
 "nbformat_minor": 2
}
